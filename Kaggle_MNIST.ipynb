{
  "nbformat": 4,
  "nbformat_minor": 0,
  "metadata": {
    "colab": {
      "name": "Kaggle-MNIST.ipynb",
      "provenance": [],
      "collapsed_sections": [],
      "authorship_tag": "ABX9TyNSFZP2x2Qlyl8o+8q4xTv5",
      "include_colab_link": true
    },
    "kernelspec": {
      "name": "python3",
      "display_name": "Python 3"
    }
  },
  "cells": [
    {
      "cell_type": "markdown",
      "metadata": {
        "id": "view-in-github",
        "colab_type": "text"
      },
      "source": [
        "<a href=\"https://colab.research.google.com/github/SheekhaJ/DataScienceProjects/blob/master/Kaggle_MNIST.ipynb\" target=\"_parent\"><img src=\"https://colab.research.google.com/assets/colab-badge.svg\" alt=\"Open In Colab\"/></a>"
      ]
    },
    {
      "cell_type": "code",
      "metadata": {
        "id": "KfB1gswD1h9o",
        "colab_type": "code",
        "colab": {
          "base_uri": "https://localhost:8080/",
          "height": 34
        },
        "outputId": "50d1416a-8c6a-4a9f-c48b-5f392fd2d4a7"
      },
      "source": [
        "from google.colab import drive\n",
        "drive.mount('/content/gdrive')\n",
        "# drive.flush_and_unmount()"
      ],
      "execution_count": 11,
      "outputs": [
        {
          "output_type": "stream",
          "text": [
            "Drive already mounted at /content/gdrive; to attempt to forcibly remount, call drive.mount(\"/content/gdrive\", force_remount=True).\n"
          ],
          "name": "stdout"
        }
      ]
    },
    {
      "cell_type": "code",
      "metadata": {
        "id": "ypgx0mg9lDbk",
        "colab_type": "code",
        "colab": {
          "base_uri": "https://localhost:8080/",
          "height": 34
        },
        "outputId": "9ab3fc68-9638-47f6-c7da-f2ca33e16416"
      },
      "source": [
        "%cd /content/gdrive/My\\ Drive/Kaggle"
      ],
      "execution_count": 12,
      "outputs": [
        {
          "output_type": "stream",
          "text": [
            "/content/gdrive/My Drive/Kaggle\n"
          ],
          "name": "stdout"
        }
      ]
    },
    {
      "cell_type": "code",
      "metadata": {
        "id": "LWc86o1mliet",
        "colab_type": "code",
        "colab": {
          "base_uri": "https://localhost:8080/",
          "height": 34
        },
        "outputId": "7a2eddc6-c2d5-4b2c-c240-ca0a2d503aa4"
      },
      "source": [
        "!pwd"
      ],
      "execution_count": 13,
      "outputs": [
        {
          "output_type": "stream",
          "text": [
            "/content/gdrive/My Drive/Kaggle\n"
          ],
          "name": "stdout"
        }
      ]
    },
    {
      "cell_type": "code",
      "metadata": {
        "id": "ukJrjVIt9dAq",
        "colab_type": "code",
        "colab": {}
      },
      "source": [
        "import os\n",
        "os.environ['KAGGLE_CONFIG_DIR']='/content/gdrive/My Drive/Kaggle'"
      ],
      "execution_count": 14,
      "outputs": []
    },
    {
      "cell_type": "code",
      "metadata": {
        "id": "lLAS4AVznsoQ",
        "colab_type": "code",
        "colab": {
          "base_uri": "https://localhost:8080/",
          "height": 204
        },
        "outputId": "2715caad-b051-4bf9-ed67-da0af50de33c"
      },
      "source": [
        "!pip install kaggle"
      ],
      "execution_count": 15,
      "outputs": [
        {
          "output_type": "stream",
          "text": [
            "Requirement already satisfied: kaggle in /usr/local/lib/python3.6/dist-packages (1.5.6)\n",
            "Requirement already satisfied: python-slugify in /usr/local/lib/python3.6/dist-packages (from kaggle) (4.0.1)\n",
            "Requirement already satisfied: urllib3<1.25,>=1.21.1 in /usr/local/lib/python3.6/dist-packages (from kaggle) (1.24.3)\n",
            "Requirement already satisfied: six>=1.10 in /usr/local/lib/python3.6/dist-packages (from kaggle) (1.15.0)\n",
            "Requirement already satisfied: python-dateutil in /usr/local/lib/python3.6/dist-packages (from kaggle) (2.8.1)\n",
            "Requirement already satisfied: tqdm in /usr/local/lib/python3.6/dist-packages (from kaggle) (4.41.1)\n",
            "Requirement already satisfied: requests in /usr/local/lib/python3.6/dist-packages (from kaggle) (2.23.0)\n",
            "Requirement already satisfied: certifi in /usr/local/lib/python3.6/dist-packages (from kaggle) (2020.6.20)\n",
            "Requirement already satisfied: text-unidecode>=1.3 in /usr/local/lib/python3.6/dist-packages (from python-slugify->kaggle) (1.3)\n",
            "Requirement already satisfied: chardet<4,>=3.0.2 in /usr/local/lib/python3.6/dist-packages (from requests->kaggle) (3.0.4)\n",
            "Requirement already satisfied: idna<3,>=2.5 in /usr/local/lib/python3.6/dist-packages (from requests->kaggle) (2.10)\n"
          ],
          "name": "stdout"
        }
      ]
    },
    {
      "cell_type": "code",
      "metadata": {
        "id": "206LNTSt92pq",
        "colab_type": "code",
        "colab": {
          "base_uri": "https://localhost:8080/",
          "height": 68
        },
        "outputId": "17a1e9f5-fc0d-41ee-ced2-e7d223cf326b"
      },
      "source": [
        "!pip install kaggle upgrade"
      ],
      "execution_count": 16,
      "outputs": [
        {
          "output_type": "stream",
          "text": [
            "Requirement already satisfied: kaggle in /usr/local/lib/python3.6/dist-packages (1.5.6)\n",
            "\u001b[31mERROR: Could not find a version that satisfies the requirement upgrade (from versions: none)\u001b[0m\n",
            "\u001b[31mERROR: No matching distribution found for upgrade\u001b[0m\n"
          ],
          "name": "stdout"
        }
      ]
    },
    {
      "cell_type": "code",
      "metadata": {
        "id": "895nmm_60_0N",
        "colab_type": "code",
        "colab": {
          "base_uri": "https://localhost:8080/",
          "height": 408
        },
        "outputId": "28a73335-56cb-4239-9ed8-d9445d6158d3"
      },
      "source": [
        "!kaggle datasets list"
      ],
      "execution_count": 17,
      "outputs": [
        {
          "output_type": "stream",
          "text": [
            "Warning: Looks like you're using an outdated API Version, please consider updating (server 1.5.6 / client 1.5.4)\n",
            "ref                                                         title                                             size  lastUpdated          downloadCount  \n",
            "----------------------------------------------------------  -----------------------------------------------  -----  -------------------  -------------  \n",
            "andrewmvd/data-analyst-jobs                                 Data Analyst Jobs                                  2MB  2020-07-14 08:37:57           1569  \n",
            "vzrenggamani/hanacaraka                                     Aksara Jawa / Hanacaraka                           9MB  2020-07-10 15:09:31             50  \n",
            "mrgeislinger/bart-ridership                                 BART Ridership                                   325MB  2020-07-09 22:28:07            174  \n",
            "moezabid/zillow-all-homes-data                              Zillow All Homes Data                              5MB  2020-07-18 11:44:48            667  \n",
            "mrmorj/restaurant-recommendation-challenge                  Restaurant Recommendation Challenge              534MB  2020-07-18 16:25:04            685  \n",
            "vishnuvarthanrao/windows-store                              Windows Store                                     93KB  2020-07-07 12:29:07            919  \n",
            "tanmoyx/covid19-patient-precondition-dataset                COVID-19 patient pre-condition dataset             8MB  2020-07-22 16:37:50           1085  \n",
            "mdabbert/ultimate-ufc-dataset                               Ultimate UFC Dataset                             533KB  2020-07-30 16:00:57            537  \n",
            "rohanrao/chai-time-data-science                             Chai Time Data Science | CTDS.Show                 3MB  2020-07-23 17:23:46            668  \n",
            "garystafford/environmental-sensor-data-132k                 Environmental Sensor Telemetry Data                7MB  2020-07-20 17:18:10            228  \n",
            "benroshan/factors-affecting-campus-placement                Campus Recruitment                                 5KB  2020-04-11 11:09:02          12648  \n",
            "bobbyscience/league-of-legends-diamond-ranked-games-10-min  League of Legends Diamond Ranked Games (10 min)  539KB  2020-04-13 13:53:02           5074  \n",
            "fireballbyedimyrnmom/us-counties-covid-19-dataset           US counties COVID 19 dataset                       4MB  2020-07-31 11:25:22          10821  \n",
            "divyansh22/flight-delay-prediction                          January Flight Delay Prediction                   23MB  2020-04-14 13:15:41           4256  \n",
            "clmentbisaillon/fake-and-real-news-dataset                  Fake and real news dataset                        41MB  2020-03-26 18:51:15          10837  \n",
            "ikiulian/global-hospital-beds-capacity-for-covid19          Global Hospital Beds Capacity (for covid-19)     284KB  2020-04-26 09:39:35           3695  \n",
            "praveengovi/coronahack-chest-xraydataset                    CoronaHack -Chest X-Ray-Dataset                    1GB  2020-03-20 01:26:40           5131  \n",
            "bappekim/air-pollution-in-seoul                             Air Pollution in Seoul                            20MB  2020-04-03 16:33:49           5201  \n",
            "kimjihoo/coronavirusdataset                                 Data Science for COVID-19 (DS4C)                   7MB  2020-07-13 14:07:31          49386  \n",
            "sudalairajkumar/novel-corona-virus-2019-dataset             Novel Corona Virus 2019 Dataset                    2MB  2020-07-30 15:13:56         233113  \n"
          ],
          "name": "stdout"
        }
      ]
    },
    {
      "cell_type": "code",
      "metadata": {
        "id": "BLInlkuO_-8g",
        "colab_type": "code",
        "colab": {
          "base_uri": "https://localhost:8080/",
          "height": 153
        },
        "outputId": "77abef33-7070-46e2-a628-41ede449779b"
      },
      "source": [
        "!kaggle competitions download -c digit-recognizer"
      ],
      "execution_count": 18,
      "outputs": [
        {
          "output_type": "stream",
          "text": [
            "Warning: Looks like you're using an outdated API Version, please consider updating (server 1.5.6 / client 1.5.4)\n",
            "Downloading test.csv.zip to /content/gdrive/My Drive/Kaggle\n",
            " 82% 5.00M/6.09M [00:00<00:00, 51.9MB/s]\n",
            "100% 6.09M/6.09M [00:00<00:00, 38.8MB/s]\n",
            "sample_submission.csv: Skipping, found more recently modified local copy (use --force to force download)\n",
            "Downloading train.csv.zip to /content/gdrive/My Drive/Kaggle\n",
            " 55% 5.00M/9.16M [00:00<00:00, 52.4MB/s]\n",
            "100% 9.16M/9.16M [00:00<00:00, 58.2MB/s]\n"
          ],
          "name": "stdout"
        }
      ]
    },
    {
      "cell_type": "markdown",
      "metadata": {
        "id": "FYDiukKyDI49",
        "colab_type": "text"
      },
      "source": [
        "Note that to change directory in Jupyter notebook, you use % and not ! magic command. ! is used for ls command."
      ]
    },
    {
      "cell_type": "code",
      "metadata": {
        "id": "j7QG6sroA7kq",
        "colab_type": "code",
        "colab": {
          "base_uri": "https://localhost:8080/",
          "height": 136
        },
        "outputId": "00f49af5-403a-421e-e518-a188ed38ff96"
      },
      "source": [
        "!unzip \\*.zip && rm *.zip"
      ],
      "execution_count": 19,
      "outputs": [
        {
          "output_type": "stream",
          "text": [
            "Archive:  test.csv.zip\n",
            "replace test.csv? [y]es, [n]o, [A]ll, [N]one, [r]ename: n\n",
            "\n",
            "Archive:  train.csv.zip\n",
            "replace train.csv? [y]es, [n]o, [A]ll, [N]one, [r]ename: n\n",
            "\n",
            "2 archives were successfully processed.\n"
          ],
          "name": "stdout"
        }
      ]
    },
    {
      "cell_type": "code",
      "metadata": {
        "id": "55-0Se1_MmQi",
        "colab_type": "code",
        "colab": {
          "base_uri": "https://localhost:8080/",
          "height": 136
        },
        "outputId": "db565c5c-043f-4cd1-e368-73606f3c40c3"
      },
      "source": [
        "import numpy as np\n",
        "import pandas as pd\n",
        "import torch\n",
        "from torch.utils.data import Dataset, DataLoader\n",
        "\n",
        "import matplotlib.pyplot as plt\n",
        "%matplotlib inline\n",
        "\n",
        "from subprocess import check_output\n",
        "\n",
        "print(check_output([\"ls\"]).decode(\"utf8\"))"
      ],
      "execution_count": 20,
      "outputs": [
        {
          "output_type": "stream",
          "text": [
            "kaggle.json\n",
            "mnist\n",
            "sample_data\n",
            "sample_submission.csv\n",
            "test.csv\n",
            "train.csv\n",
            "\n"
          ],
          "name": "stdout"
        }
      ]
    },
    {
      "cell_type": "code",
      "metadata": {
        "id": "Ot8uNkt8OVS-",
        "colab_type": "code",
        "colab": {
          "base_uri": "https://localhost:8080/",
          "height": 51
        },
        "outputId": "3c46d439-380c-466b-a83b-4927de24d8ef"
      },
      "source": [
        "train = pd.read_csv('train.csv')\n",
        "test = pd.read_csv('test.csv')\n",
        "\n",
        "print(f'train.shape: \"{train.shape}\"')\n",
        "\n",
        "print(f'test.shape: \"{test.shape}\"')"
      ],
      "execution_count": 21,
      "outputs": [
        {
          "output_type": "stream",
          "text": [
            "train.shape: \"(42000, 785)\"\n",
            "test.shape: \"(28000, 784)\"\n"
          ],
          "name": "stdout"
        }
      ]
    },
    {
      "cell_type": "code",
      "metadata": {
        "id": "gUOZrn6xOgh3",
        "colab_type": "code",
        "colab": {
          "base_uri": "https://localhost:8080/",
          "height": 221
        },
        "outputId": "b8a4a370-2e1a-460e-bf17-f98ab9018b06"
      },
      "source": [
        "print(f'train headers - {train.columns}')\n",
        "print(f'test headers - {test.columns}')"
      ],
      "execution_count": 22,
      "outputs": [
        {
          "output_type": "stream",
          "text": [
            "train headers - Index(['label', 'pixel0', 'pixel1', 'pixel2', 'pixel3', 'pixel4', 'pixel5',\n",
            "       'pixel6', 'pixel7', 'pixel8',\n",
            "       ...\n",
            "       'pixel774', 'pixel775', 'pixel776', 'pixel777', 'pixel778', 'pixel779',\n",
            "       'pixel780', 'pixel781', 'pixel782', 'pixel783'],\n",
            "      dtype='object', length=785)\n",
            "test headers - Index(['pixel0', 'pixel1', 'pixel2', 'pixel3', 'pixel4', 'pixel5', 'pixel6',\n",
            "       'pixel7', 'pixel8', 'pixel9',\n",
            "       ...\n",
            "       'pixel774', 'pixel775', 'pixel776', 'pixel777', 'pixel778', 'pixel779',\n",
            "       'pixel780', 'pixel781', 'pixel782', 'pixel783'],\n",
            "      dtype='object', length=784)\n"
          ],
          "name": "stdout"
        }
      ]
    },
    {
      "cell_type": "code",
      "metadata": {
        "id": "ymfWcidTbyGO",
        "colab_type": "code",
        "colab": {
          "base_uri": "https://localhost:8080/",
          "height": 391
        },
        "outputId": "4e971977-7be8-4503-a9c2-2a2098a32453"
      },
      "source": [
        "print(type(train.iloc[0]))\n",
        "train['label'][:20]"
      ],
      "execution_count": 45,
      "outputs": [
        {
          "output_type": "stream",
          "text": [
            "<class 'pandas.core.series.Series'>\n"
          ],
          "name": "stdout"
        },
        {
          "output_type": "execute_result",
          "data": {
            "text/plain": [
              "0     1\n",
              "1     0\n",
              "2     1\n",
              "3     4\n",
              "4     0\n",
              "5     0\n",
              "6     7\n",
              "7     3\n",
              "8     5\n",
              "9     3\n",
              "10    8\n",
              "11    9\n",
              "12    1\n",
              "13    3\n",
              "14    3\n",
              "15    1\n",
              "16    2\n",
              "17    0\n",
              "18    7\n",
              "19    5\n",
              "Name: label, dtype: int64"
            ]
          },
          "metadata": {
            "tags": []
          },
          "execution_count": 45
        }
      ]
    },
    {
      "cell_type": "code",
      "metadata": {
        "id": "ipYHyJlmocMi",
        "colab_type": "code",
        "colab": {
          "base_uri": "https://localhost:8080/",
          "height": 260
        },
        "outputId": "c7eb1fe3-f35f-486d-ecc1-d456b47e62d8"
      },
      "source": [
        "figure = plt.figure()\n",
        "rows,cols=5,10\n",
        "gs = figure.add_gridspec(rows,cols)\n",
        "\n",
        "for i in range(rows):\n",
        "  for j in range(cols):\n",
        "    example = train.iloc[10*i+j,1:]\n",
        "    # print(10*i+j,train.iloc[10*i+j,0])\n",
        "    example = example.values.reshape([28,28])\n",
        "    figure.add_subplot(gs[i,j])\n",
        "    plt.imshow(example)"
      ],
      "execution_count": 26,
      "outputs": [
        {
          "output_type": "display_data",
          "data": {
            "image/png": "[encoded data removed]",
            "text/plain": [
              "<Figure size 432x288 with 50 Axes>"
            ]
          },
          "metadata": {
            "tags": [],
            "needs_background": "light"
          }
        }
      ]
    },
    {
      "cell_type": "markdown",
      "metadata": {
        "id": "ro_mA2spStZ4",
        "colab_type": "text"
      },
      "source": [
        "## Creating Pytorch MNISTDataset class"
      ]
    },
    {
      "cell_type": "code",
      "metadata": {
        "id": "HPDOn0Gx5a1s",
        "colab_type": "code",
        "colab": {}
      },
      "source": [
        "class MNISTDataset(Dataset):\n",
        "  def __init__(self,csvFileName,train=True,transforms=None):\n",
        "    self.mnistdf = pd.read_csv(csvFileName)\n",
        "    self.transforms = transforms\n",
        "    self.train = train\n",
        "\n",
        "  def __len__(self):\n",
        "    return len(self.mnistdf)\n",
        "\n",
        "  def __getitem__(self,idx):\n",
        "    if self.train:\n",
        "      label,pixels = self.mnistdf.iloc[idx,0],torch.tensor(self.mnistdf.iloc[idx,1:])\n",
        "      return label,pixels\n",
        "\n",
        "    else:\n",
        "      pixels = torch.tensor(self.mnistdf.iloc[idx,:])\n",
        "      return pixels"
      ],
      "execution_count": 39,
      "outputs": []
    },
    {
      "cell_type": "code",
      "metadata": {
        "id": "OApfYelOLu9Y",
        "colab_type": "code",
        "colab": {}
      },
      "source": [
        "trainDataSet = MNISTDataset('train.csv')\n",
        "testDataSet = MNISTDataset('test.csv',train=False)"
      ],
      "execution_count": 40,
      "outputs": []
    },
    {
      "cell_type": "markdown",
      "metadata": {
        "id": "xdfzKh1GTFg9",
        "colab_type": "text"
      },
      "source": [
        "## Setting hyper-parameters"
      ]
    },
    {
      "cell_type": "code",
      "metadata": {
        "id": "HrSTlyZfQ-9D",
        "colab_type": "code",
        "colab": {}
      },
      "source": [
        "batchSize = 5"
      ],
      "execution_count": 43,
      "outputs": []
    },
    {
      "cell_type": "code",
      "metadata": {
        "id": "URmV6cQ3N9U_",
        "colab_type": "code",
        "colab": {}
      },
      "source": [
        "trainLoader = DataLoader(trainDataSet,batch_size=batchSize,shuffle=True,num_workers=4)\n",
        "testLoader = DataLoader(testDataSet,batch_size=batchSize,shuffle=True,num_workers=4)"
      ],
      "execution_count": 44,
      "outputs": []
    },
    {
      "cell_type": "code",
      "metadata": {
        "id": "A353jwfKRjGD",
        "colab_type": "code",
        "colab": {}
      },
      "source": [
        ""
      ],
      "execution_count": null,
      "outputs": []
    }
  ]
}